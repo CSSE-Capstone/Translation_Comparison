{
 "cells": [
  {
   "cell_type": "code",
   "execution_count": 81,
   "id": "45ff8b69-ca88-46b3-8e9b-2c911f3ecbcd",
   "metadata": {},
   "outputs": [],
   "source": [
    "import owlready2 as owl2\n",
    "import datetime\n",
    "from main import Comparison"
   ]
  },
  {
   "cell_type": "code",
   "execution_count": 82,
   "id": "6e80441f-64b5-44a6-be60-175dedaacc6d",
   "metadata": {},
   "outputs": [],
   "source": [
    "file_path = '../files/'\n",
    "\n",
    "world = owl2.World()\n",
    "cids_onto = world.get_ontology(file_path + \"cids.owl\").load() #web protege download\n",
    "time_onto = world.get_ontology(file_path + \"Time.owl\").load() #web protege download\n",
    "activity_onto = world.get_ontology(file_path + \"activity.owl\").load() #web protege download\n",
    "icontact_onto = world.get_ontology(file_path + \"icontact.owl\").load() #web protege download\n",
    "iso21972_onto = world.get_ontology(file_path + \"iso21972.owl\").load() #web protege download\n",
    "organization_onto = world.get_ontology(file_path + \"organization.owl\").load() #web protege download\n",
    "genericProperties_onto = world.get_ontology(file_path + \"GenericProperties.owl\").load() #web protege download"
   ]
  },
  {
   "cell_type": "code",
   "execution_count": 83,
   "id": "c8274011",
   "metadata": {},
   "outputs": [],
   "source": [
    "# get all classes - cids and all other imported ontologies\n",
    "classes = list(cids_onto.classes())\n",
    "classes.extend(list(time_onto.classes()))\n",
    "classes.extend(list(icontact_onto.classes()))\n",
    "classes.extend(list(activity_onto.classes()))\n",
    "classes.extend(list(iso21972_onto.classes()))\n",
    "classes.extend(list(organization_onto.classes()))\n",
    "classes.extend(list(genericProperties_onto.classes()))"
   ]
  },
  {
   "cell_type": "code",
   "execution_count": 84,
   "id": "c60356ec-4e10-4d6f-834f-f1741e7831f5",
   "metadata": {},
   "outputs": [],
   "source": [
    "# get all individuals - cids and all other imported ontologies\n",
    "individuals = list(cids_onto.individuals())\n",
    "individuals.extend(list(time_onto.individuals()))\n",
    "individuals.extend(list(icontact_onto.individuals()))\n",
    "individuals.extend(list(activity_onto.individuals()))\n",
    "individuals.extend(list(iso21972_onto.individuals()))\n",
    "individuals.extend(list(organization_onto.individuals()))\n",
    "individuals.extend(list(genericProperties_onto.individuals()))"
   ]
  },
  {
   "cell_type": "code",
   "execution_count": null,
   "id": "ea94610d-e526-470f-85fb-27330055919c",
   "metadata": {},
   "outputs": [],
   "source": [
    "# text = input(\"Input the first thing you wish to compare: \")\n",
    "\n",
    "# text2 = input(\"Input the second thing you wish to compare: \")\n",
    "\n",
    "# firstinput = cids_onto.search(label = \"*\" + text + \"*\", _use_str_as_loc_str=True, _case_sensitive=False) \n",
    "# secondinput = cids_onto.search(label = \"*\" + text + \"*\", _use_str_as_loc_str=True, _case_sensitive=False) \n",
    "# # secondinput = cids_onto.search(iri = \"*\" + text2  + \"*\", _use_str_as_loc_str=True, _case_sensitive=False)\n",
    "# print(firstinput)\n",
    "# print(secondinput)\n",
    "\n",
    "text = 'SPO3PI9991'\n",
    "text2 = 'SPO3PI9991'\n",
    "\n",
    "item1 = cids_onto.search_one(label = text, _use_str_as_loc_str=True, _case_sensitive=False) \n",
    "item2 = cids_onto.search_one(label = text2, _use_str_as_loc_str=True, _case_sensitive=False) \n",
    "# item2 = cids_onto.search(iri = \"*\" + text2  + \"*\", _use_str_as_loc_str=True, _case_sensitive=False)\n",
    "print(item1)\n",
    "print(item2)"
   ]
  },
  {
   "cell_type": "code",
   "execution_count": null,
   "id": "d11be074-c033-40f5-8020-5479ed5a533c",
   "metadata": {},
   "outputs": [],
   "source": [
    "# Initialize Comparison \n",
    "c = Comparison(classes, individuals)"
   ]
  },
  {
   "cell_type": "code",
   "execution_count": null,
   "id": "fe739147-18b0-4335-9132-e25f5251ae85",
   "metadata": {},
   "outputs": [],
   "source": [
    "# order not guaranteed because it is a set\n",
    "item1_properties = [ppt for ppt in item1.get_properties()]\n",
    "item1_ppt_name = [ppt.name for ppt in item1_properties]\n",
    "\n",
    "item1_properties"
   ]
  },
  {
   "cell_type": "code",
   "execution_count": null,
   "id": "a3b4e69d-2978-4a28-b9f6-cb059044eb57",
   "metadata": {},
   "outputs": [],
   "source": [
    "c.compare_class_or_individual(item1, item2)"
   ]
  },
  {
   "cell_type": "code",
   "execution_count": null,
   "id": "2d4ec49d",
   "metadata": {},
   "outputs": [],
   "source": [
    "ppts = [i for i in item1.get_properties()]\n",
    "\n",
    "# For time inteval ppt\n",
    "for_time_interval_ppt = ppts[1]"
   ]
  },
  {
   "cell_type": "code",
   "execution_count": null,
   "id": "2b79bb27",
   "metadata": {},
   "outputs": [],
   "source": [
    "var = item1.forTimeInterval\n",
    "var"
   ]
  },
  {
   "cell_type": "code",
   "execution_count": null,
   "id": "4842f13e",
   "metadata": {},
   "outputs": [],
   "source": [
    "\n",
    "for_time_interval_ppt"
   ]
  },
  {
   "cell_type": "code",
   "execution_count": 94,
   "id": "402d056c",
   "metadata": {},
   "outputs": [
    {
     "name": "stdout",
     "output_type": "stream",
     "text": [
      "webprotege.stanford.edu.OI1075\n",
      "{iso21972.Quantity, webprotege.stanford.edu.OI1075, iso21972.Parameter, iso21972.Cardinality, cids.cidsThing, owl.Thing, iso21972.ISO21972Thing, cids.Indicator, iso21972.Indicator}\n"
     ]
    }
   ],
   "source": [
    "item = cids_onto.search_one(label = 'OI1075', _use_str_as_loc_str=True, _case_sensitive=False) \n",
    "print(item)\n",
    "print(item.ancestors())\n",
    "# print(item.get_class_properties())"
   ]
  },
  {
   "cell_type": "code",
   "execution_count": 95,
   "id": "3f402c6c",
   "metadata": {},
   "outputs": [
    {
     "data": {
      "text/plain": [
       "{rdf-schema.label, webprotege.stanford.edu.cardinalityOf}"
      ]
     },
     "execution_count": 95,
     "metadata": {},
     "output_type": "execute_result"
    }
   ],
   "source": [
    "item.get_class_properties()"
   ]
  },
  {
   "cell_type": "code",
   "execution_count": 105,
   "id": "a0a73506",
   "metadata": {},
   "outputs": [
    {
     "data": {
      "text/plain": [
       "{rdf-schema.label, webprotege.stanford.edu.cardinalityOf}"
      ]
     },
     "execution_count": 105,
     "metadata": {},
     "output_type": "execute_result"
    }
   ],
   "source": [
    "item1.get_properties()"
   ]
  },
  {
   "cell_type": "code",
   "execution_count": 114,
   "id": "1636c511",
   "metadata": {},
   "outputs": [
    {
     "data": {
      "text/plain": [
       "[]"
      ]
     },
     "execution_count": 114,
     "metadata": {},
     "output_type": "execute_result"
    }
   ],
   "source": [
    "item1.hasProvince"
   ]
  },
  {
   "cell_type": "code",
   "execution_count": 113,
   "id": "151438b1",
   "metadata": {},
   "outputs": [
    {
     "data": {
      "text/plain": [
       "False"
      ]
     },
     "execution_count": 113,
     "metadata": {},
     "output_type": "execute_result"
    }
   ],
   "source": [
    "bool(item1.hasProvince)"
   ]
  },
  {
   "cell_type": "code",
   "execution_count": 108,
   "id": "c08ac02d",
   "metadata": {},
   "outputs": [
    {
     "data": {
      "text/plain": [
       "[webprotege.stanford.edu.SPO3PI9991Population]"
      ]
     },
     "execution_count": 108,
     "metadata": {},
     "output_type": "execute_result"
    }
   ],
   "source": [
    "item1.cardinalityOf"
   ]
  },
  {
   "cell_type": "code",
   "execution_count": 106,
   "id": "5f0c3a0a",
   "metadata": {},
   "outputs": [
    {
     "data": {
      "text/plain": [
       "True"
      ]
     },
     "execution_count": 106,
     "metadata": {},
     "output_type": "execute_result"
    }
   ],
   "source": [
    "'cardinalityOf' in [p.name for p in item1.get_properties()]"
   ]
  },
  {
   "cell_type": "markdown",
   "id": "63e531fe",
   "metadata": {},
   "source": []
  },
  {
   "cell_type": "markdown",
   "id": "ae2de4c8",
   "metadata": {},
   "source": []
  }
 ],
 "metadata": {
  "kernelspec": {
   "display_name": "Python 3 (ipykernel)",
   "language": "python",
   "name": "python3"
  },
  "language_info": {
   "codemirror_mode": {
    "name": "ipython",
    "version": 3
   },
   "file_extension": ".py",
   "mimetype": "text/x-python",
   "name": "python",
   "nbconvert_exporter": "python",
   "pygments_lexer": "ipython3",
   "version": "3.9.7"
  }
 },
 "nbformat": 4,
 "nbformat_minor": 5
}
