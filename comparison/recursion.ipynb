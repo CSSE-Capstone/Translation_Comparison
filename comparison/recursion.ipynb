{
 "cells": [
  {
   "cell_type": "code",
   "execution_count": 1,
   "id": "45ff8b69-ca88-46b3-8e9b-2c911f3ecbcd",
   "metadata": {},
   "outputs": [
    {
     "name": "stderr",
     "output_type": "stream",
     "text": [
      "* Owlready2 * Warning: optimized Cython parser module 'owlready2_optimized' is not available, defaulting to slower Python implementation\n"
     ]
    }
   ],
   "source": [
    "import owlready2 as owl2\n",
    "import datetime\n",
    "from main import Comparison"
   ]
  },
  {
   "cell_type": "code",
   "execution_count": 14,
   "id": "6e80441f-64b5-44a6-be60-175dedaacc6d",
   "metadata": {},
   "outputs": [],
   "source": [
    "file_path = '../files/'\n",
    "\n",
    "world = owl2.World()\n",
    "cids_onto = world.get_ontology(file_path + \"cids.owl\").load() #web protege download\n",
    "time_onto = world.get_ontology(file_path + \"Time.owl\").load() #web protege download\n",
    "activity_onto = world.get_ontology(file_path + \"activity.owl\").load() #web protege download\n",
    "icontact_onto = world.get_ontology(file_path + \"icontact.owl\").load() #web protege download\n",
    "iso21972_onto = world.get_ontology(file_path + \"iso21972.owl\").load() #web protege download\n",
    "organization_onto = world.get_ontology(file_path + \"organization.owl\").load() #web protege download\n",
    "genericProperties_onto = world.get_ontology(file_path + \"GenericProperties.owl\").load() #web protege download"
   ]
  },
  {
   "cell_type": "code",
   "execution_count": null,
   "id": "c8274011",
   "metadata": {},
   "outputs": [],
   "source": [
    "# get all classes - cids and all other imported ontologies\n",
    "classes = list(cids_onto.classes())\n",
    "classes.extend(list(time_onto.classes()))\n",
    "classes.extend(list(icontact_onto.classes()))\n",
    "classes.extend(list(activity_onto.classes()))\n",
    "classes.extend(list(iso21972_onto.classes()))\n",
    "classes.extend(list(organization_onto.classes()))\n",
    "classes.extend(list(genericProperties_onto.classes()))"
   ]
  },
  {
   "cell_type": "code",
   "execution_count": 15,
   "id": "c60356ec-4e10-4d6f-834f-f1741e7831f5",
   "metadata": {},
   "outputs": [],
   "source": [
    "# get all individuals - cids and all other imported ontologies\n",
    "individuals = list(cids_onto.individuals())\n",
    "individuals.extend(list(time_onto.individuals()))\n",
    "individuals.extend(list(icontact_onto.individuals()))\n",
    "individuals.extend(list(activity_onto.individuals()))\n",
    "individuals.extend(list(iso21972_onto.individuals()))\n",
    "individuals.extend(list(organization_onto.individuals()))\n",
    "individuals.extend(list(genericProperties_onto.individuals()))"
   ]
  },
  {
   "cell_type": "code",
   "execution_count": 48,
   "id": "ea94610d-e526-470f-85fb-27330055919c",
   "metadata": {},
   "outputs": [
    {
     "name": "stdout",
     "output_type": "stream",
     "text": [
      "webprotege.stanford.edu.SPO3PI9991\n",
      "webprotege.stanford.edu.SPO3PI9991\n"
     ]
    }
   ],
   "source": [
    "# text = input(\"Input the first thing you wish to compare: \")\n",
    "\n",
    "# text2 = input(\"Input the second thing you wish to compare: \")\n",
    "\n",
    "# firstinput = cids_onto.search(label = \"*\" + text + \"*\", _use_str_as_loc_str=True, _case_sensitive=False) \n",
    "# secondinput = cids_onto.search(label = \"*\" + text + \"*\", _use_str_as_loc_str=True, _case_sensitive=False) \n",
    "# # secondinput = cids_onto.search(iri = \"*\" + text2  + \"*\", _use_str_as_loc_str=True, _case_sensitive=False)\n",
    "# print(firstinput)\n",
    "# print(secondinput)\n",
    "\n",
    "text = 'SPO3PI9991'\n",
    "text2 = 'SPO3PI9991'\n",
    "\n",
    "firstinput = cids_onto.search_one(label = text, _use_str_as_loc_str=True, _case_sensitive=False) \n",
    "secondinput = cids_onto.search_one(label = text2, _use_str_as_loc_str=True, _case_sensitive=False) \n",
    "# secondinput = cids_onto.search(iri = \"*\" + text2  + \"*\", _use_str_as_loc_str=True, _case_sensitive=False)\n",
    "print(firstinput)\n",
    "print(secondinput)"
   ]
  },
  {
   "cell_type": "code",
   "execution_count": 52,
   "id": "d11be074-c033-40f5-8020-5479ed5a533c",
   "metadata": {},
   "outputs": [],
   "source": [
    "# Initialize Comparison \n",
    "c = Comparison(classes, individuals)"
   ]
  },
  {
   "cell_type": "code",
   "execution_count": 51,
   "id": "fe739147-18b0-4335-9132-e25f5251ae85",
   "metadata": {},
   "outputs": [
    {
     "data": {
      "text/plain": [
       "[rdf-schema.label, webprotege.stanford.edu.cardinalityOf]"
      ]
     },
     "execution_count": 51,
     "metadata": {},
     "output_type": "execute_result"
    }
   ],
   "source": [
    "# order not guaranteed because it is a set\n",
    "item1_properties = [ppt for ppt in item1.get_properties()]\n",
    "item1_ppt_name = [ppt.name for ppt in item1_properties]\n",
    "\n",
    "item1_properties"
   ]
  },
  {
   "cell_type": "code",
   "execution_count": 8,
   "id": "a3b4e69d-2978-4a28-b9f6-cb059044eb57",
   "metadata": {},
   "outputs": [
    {
     "ename": "NameError",
     "evalue": "name 'c' is not defined",
     "output_type": "error",
     "traceback": [
      "\u001b[0;31m---------------------------------------------------------------------------\u001b[0m",
      "\u001b[0;31mNameError\u001b[0m                                 Traceback (most recent call last)",
      "\u001b[1;32m/Users/lynnettetee/Desktop/4thYear/🧡MIE490_capstone/Translation_Comparison/comparison/recursion.ipynb Cell 8'\u001b[0m in \u001b[0;36m<cell line: 1>\u001b[0;34m()\u001b[0m\n\u001b[0;32m----> <a href='vscode-notebook-cell:/Users/lynnettetee/Desktop/4thYear/%F0%9F%A7%A1MIE490_capstone/Translation_Comparison/comparison/recursion.ipynb#ch0000008?line=0'>1</a>\u001b[0m c\u001b[39m.\u001b[39mcompare_class_or_individual(item1, item2)\n",
      "\u001b[0;31mNameError\u001b[0m: name 'c' is not defined"
     ]
    }
   ],
   "source": [
    "c.compare_class_or_individual(item1, item2)"
   ]
  },
  {
   "cell_type": "code",
   "execution_count": 36,
   "id": "2d4ec49d",
   "metadata": {},
   "outputs": [],
   "source": [
    "ppts = [i for i in item1.get_properties()]\n",
    "\n",
    "# For time inteval ppt\n",
    "for_time_interval_ppt = ppts[1]"
   ]
  },
  {
   "cell_type": "code",
   "execution_count": 32,
   "id": "2b79bb27",
   "metadata": {},
   "outputs": [
    {
     "data": {
      "text/plain": [
       "[webprotege.stanford.edu.SPO1ReportingPeriod]"
      ]
     },
     "execution_count": 32,
     "metadata": {},
     "output_type": "execute_result"
    }
   ],
   "source": [
    "var = item1.forTimeInterval\n",
    "var"
   ]
  },
  {
   "cell_type": "code",
   "execution_count": 33,
   "id": "4842f13e",
   "metadata": {},
   "outputs": [
    {
     "data": {
      "text/plain": [
       "webprotege.stanford.edu.forTimeInterval"
      ]
     },
     "execution_count": 33,
     "metadata": {},
     "output_type": "execute_result"
    }
   ],
   "source": [
    "\n",
    "for_time_interval_ppt"
   ]
  },
  {
   "cell_type": "code",
   "execution_count": 24,
   "id": "402d056c",
   "metadata": {},
   "outputs": [
    {
     "data": {
      "text/plain": [
       "webprotege.stanford.edu.SPO1EarningsOfFemaleDistributors"
      ]
     },
     "execution_count": 24,
     "metadata": {},
     "output_type": "execute_result"
    }
   ],
   "source": [
    "item1"
   ]
  },
  {
   "cell_type": "markdown",
   "id": "63e531fe",
   "metadata": {},
   "source": []
  },
  {
   "cell_type": "markdown",
   "id": "ae2de4c8",
   "metadata": {},
   "source": []
  }
 ],
 "metadata": {
  "kernelspec": {
   "display_name": "Python 3 (ipykernel)",
   "language": "python",
   "name": "python3"
  },
  "language_info": {
   "codemirror_mode": {
    "name": "ipython",
    "version": 3
   },
   "file_extension": ".py",
   "mimetype": "text/x-python",
   "name": "python",
   "nbconvert_exporter": "python",
   "pygments_lexer": "ipython3",
   "version": "3.9.7"
  }
 },
 "nbformat": 4,
 "nbformat_minor": 5
}
