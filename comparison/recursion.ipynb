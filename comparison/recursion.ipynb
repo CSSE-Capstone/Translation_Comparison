{
 "cells": [
  {
   "cell_type": "code",
   "execution_count": 1,
   "id": "45ff8b69-ca88-46b3-8e9b-2c911f3ecbcd",
   "metadata": {},
   "outputs": [
    {
     "name": "stderr",
     "output_type": "stream",
     "text": [
      "* Owlready2 * Warning: optimized Cython parser module 'owlready2_optimized' is not available, defaulting to slower Python implementation\n"
     ]
    }
   ],
   "source": [
    "import owlready2 as owl2\n",
    "import datetime\n",
    "from main import Comparison"
   ]
  },
  {
   "cell_type": "code",
   "execution_count": 2,
   "id": "6e80441f-64b5-44a6-be60-175dedaacc6d",
   "metadata": {},
   "outputs": [],
   "source": [
    "file_path = '../files/'\n",
    "\n",
    "world = owl2.World()\n",
    "cids_onto = world.get_ontology(file_path + \"cids.owl\").load() #web protege download\n",
    "time_onto = world.get_ontology(file_path + \"Time.owl\").load() #web protege download\n",
    "activity_onto = world.get_ontology(file_path + \"activity.owl\").load() #web protege download\n",
    "icontact_onto = world.get_ontology(file_path + \"icontact.owl\").load() #web protege download\n",
    "iso21972_onto = world.get_ontology(file_path + \"iso21972.owl\").load() #web protege download\n",
    "organization_onto = world.get_ontology(file_path + \"organization.owl\").load() #web protege download\n",
    "genericProperties_onto = world.get_ontology(file_path + \"GenericProperties.owl\").load() #web protege download"
   ]
  },
  {
   "cell_type": "code",
   "execution_count": 3,
   "id": "c8274011",
   "metadata": {},
   "outputs": [],
   "source": [
    "# get all classes - cids and all other imported ontologies\n",
    "classes = list(cids_onto.classes())\n",
    "classes.extend(list(time_onto.classes()))\n",
    "classes.extend(list(icontact_onto.classes()))\n",
    "classes.extend(list(activity_onto.classes()))\n",
    "classes.extend(list(iso21972_onto.classes()))\n",
    "classes.extend(list(organization_onto.classes()))\n",
    "classes.extend(list(genericProperties_onto.classes()))"
   ]
  },
  {
   "cell_type": "code",
   "execution_count": 35,
   "id": "c60356ec-4e10-4d6f-834f-f1741e7831f5",
   "metadata": {},
   "outputs": [],
   "source": [
    "# get all individuals - cids and all other imported ontologies\n",
    "individuals = list(cids_onto.individuals())\n",
    "individuals.extend(list(time_onto.individuals()))\n",
    "individuals.extend(list(icontact_onto.individuals()))\n",
    "individuals.extend(list(activity_onto.individuals()))\n",
    "individuals.extend(list(iso21972_onto.individuals()))\n",
    "individuals.extend(list(organization_onto.individuals()))\n",
    "individuals.extend(list(genericProperties_onto.individuals()))"
   ]
  },
  {
   "cell_type": "code",
   "execution_count": 87,
   "id": "ea94610d-e526-470f-85fb-27330055919c",
   "metadata": {},
   "outputs": [
    {
     "name": "stdout",
     "output_type": "stream",
     "text": [
      "webprotege.stanford.edu.SPO3PI9991\n",
      "webprotege.stanford.edu.SPO3PI9991\n"
     ]
    }
   ],
   "source": [
    "# text = input(\"Input the first thing you wish to compare: \")\n",
    "\n",
    "# text2 = input(\"Input the second thing you wish to compare: \")\n",
    "\n",
    "# firstinput = cids_onto.search(label = \"*\" + text + \"*\", _use_str_as_loc_str=True, _case_sensitive=False) \n",
    "# secondinput = cids_onto.search(label = \"*\" + text + \"*\", _use_str_as_loc_str=True, _case_sensitive=False) \n",
    "# # secondinput = cids_onto.search(iri = \"*\" + text2  + \"*\", _use_str_as_loc_str=True, _case_sensitive=False)\n",
    "# print(firstinput)\n",
    "# print(secondinput)\n",
    "\n",
    "text = 'SPO3PI9991'\n",
    "text2 = 'SPO3PI9991'\n",
    "\n",
    "item1 = cids_onto.search_one(label = text, _use_str_as_loc_str=True, _case_sensitive=False) \n",
    "item2 = cids_onto.search_one(label = text2, _use_str_as_loc_str=True, _case_sensitive=False) \n",
    "# secondinput = cids_onto.search(iri = \"*\" + text2  + \"*\", _use_str_as_loc_str=True, _case_sensitive=False)\n",
    "print(item1)\n",
    "print(item2)"
   ]
  },
  {
   "cell_type": "code",
   "execution_count": 44,
   "id": "fe739147-18b0-4335-9132-e25f5251ae85",
   "metadata": {},
   "outputs": [
    {
     "data": {
      "text/plain": [
       "[rdf-schema.label, webprotege.stanford.edu.cardinalityOf]"
      ]
     },
     "execution_count": 44,
     "metadata": {},
     "output_type": "execute_result"
    }
   ],
   "source": [
    "# order not guaranteed because it is a set\n",
    "item1_properties = [ppt for ppt in item1.get_properties()]\n",
    "item1_ppt_name = [ppt.name for ppt in item1_properties]\n",
    "\n",
    "item1_properties"
   ]
  },
  {
   "cell_type": "code",
   "execution_count": 7,
   "id": "d11be074-c033-40f5-8020-5479ed5a533c",
   "metadata": {},
   "outputs": [],
   "source": [
    "# Initialize Comparison \n",
    "c = Comparison(classes, individuals)"
   ]
  },
  {
   "cell_type": "code",
   "execution_count": 8,
   "id": "a3b4e69d-2978-4a28-b9f6-cb059044eb57",
   "metadata": {},
   "outputs": [],
   "source": [
    "# c.compare_class_or_individual(item1, item2)"
   ]
  },
  {
   "cell_type": "markdown",
   "id": "791eadd1",
   "metadata": {},
   "source": [
    "# Recursion"
   ]
  },
  {
   "cell_type": "code",
   "execution_count": 9,
   "id": "d3ca93b7",
   "metadata": {},
   "outputs": [
    {
     "data": {
      "text/plain": [
       "['INDIRECT_get_properties',\n",
       " '__class__',\n",
       " '__classcell__',\n",
       " '__delattr__',\n",
       " '__dict__',\n",
       " '__dir__',\n",
       " '__doc__',\n",
       " '__eq__',\n",
       " '__format__',\n",
       " '__ge__',\n",
       " '__getattr__',\n",
       " '__getattribute__',\n",
       " '__gt__',\n",
       " '__hash__',\n",
       " '__init__',\n",
       " '__init_subclass__',\n",
       " '__le__',\n",
       " '__lt__',\n",
       " '__module__',\n",
       " '__ne__',\n",
       " '__new__',\n",
       " '__reduce__',\n",
       " '__reduce_ex__',\n",
       " '__repr__',\n",
       " '__setattr__',\n",
       " '__sizeof__',\n",
       " '__str__',\n",
       " '__subclasshook__',\n",
       " '__weakref__',\n",
       " '_equivalent_to',\n",
       " '_get_instance_possible_relations',\n",
       " '_get_is_instance_of',\n",
       " '_instance_equivalent_to_changed',\n",
       " '_instance_is_a_changed',\n",
       " '_name',\n",
       " '_set_is_instance_of',\n",
       " 'cardinalityOf',\n",
       " 'differents',\n",
       " 'generate_default_name',\n",
       " 'get_equivalent_to',\n",
       " 'get_inverse_properties',\n",
       " 'get_iri',\n",
       " 'get_name',\n",
       " 'get_properties',\n",
       " 'iri',\n",
       " 'is_a',\n",
       " 'is_instance_of',\n",
       " 'label',\n",
       " 'name',\n",
       " 'namespace',\n",
       " 'set_equivalent_to',\n",
       " 'set_iri',\n",
       " 'set_name',\n",
       " 'storid']"
      ]
     },
     "execution_count": 9,
     "metadata": {},
     "output_type": "execute_result"
    }
   ],
   "source": [
    "dir(item1)"
   ]
  },
  {
   "cell_type": "code",
   "execution_count": 10,
   "id": "d85bf6e4",
   "metadata": {},
   "outputs": [
    {
     "data": {
      "text/plain": [
       "[webprotege.stanford.edu.SPO3PI9991Population]"
      ]
     },
     "execution_count": 10,
     "metadata": {},
     "output_type": "execute_result"
    }
   ],
   "source": [
    "# TODO sefe to use this? eg what if gets deleted? will it?\n",
    "item1.__getattr__('cardinalityOf')\n",
    "\n",
    "# https://stackoverflow.com/questions/3278077/difference-between-getattr-vs-getattribute -> definitely want to use __getattr__ over __getattribute__"
   ]
  },
  {
   "cell_type": "code",
   "execution_count": 11,
   "id": "35ddf71e",
   "metadata": {},
   "outputs": [
    {
     "data": {
      "text/plain": [
       "owlready2.prop.IndividualValueList"
      ]
     },
     "execution_count": 11,
     "metadata": {},
     "output_type": "execute_result"
    }
   ],
   "source": [
    "type(item1.cardinalityOf)"
   ]
  },
  {
   "cell_type": "code",
   "execution_count": 12,
   "id": "37d354e3",
   "metadata": {},
   "outputs": [
    {
     "data": {
      "text/plain": [
       "owlready2.prop.IndividualValueList"
      ]
     },
     "execution_count": 12,
     "metadata": {},
     "output_type": "execute_result"
    }
   ],
   "source": [
    "type(item1.__getattr__('cardinalityOf'))"
   ]
  },
  {
   "cell_type": "code",
   "execution_count": 13,
   "id": "5137fdf5",
   "metadata": {},
   "outputs": [
    {
     "data": {
      "text/plain": [
       "webprotege.stanford.edu.PI9991Population"
      ]
     },
     "execution_count": 13,
     "metadata": {},
     "output_type": "execute_result"
    }
   ],
   "source": [
    "type(list(item1.__getattr__('cardinalityOf'))[0])"
   ]
  },
  {
   "cell_type": "code",
   "execution_count": 14,
   "id": "5513f8e8",
   "metadata": {},
   "outputs": [
    {
     "data": {
      "text/plain": [
       "str"
      ]
     },
     "execution_count": 14,
     "metadata": {},
     "output_type": "execute_result"
    }
   ],
   "source": [
    "type(list(item1.__getattr__('label'))[0])"
   ]
  },
  {
   "cell_type": "code",
   "execution_count": 115,
   "id": "34604edc",
   "metadata": {},
   "outputs": [
    {
     "name": "stdout",
     "output_type": "stream",
     "text": [
      "cardinalityOf --- SPO3PI9991Population\n"
     ]
    }
   ],
   "source": [
    "for p in item1_properties:\n",
    "    print(f'{p.name} --- {p[item1][0].name}')"
   ]
  },
  {
   "cell_type": "markdown",
   "id": "ac9b2b59",
   "metadata": {},
   "source": [
    "equiv to below (but use above)"
   ]
  },
  {
   "cell_type": "code",
   "execution_count": 114,
   "id": "83ae8a51",
   "metadata": {},
   "outputs": [
    {
     "name": "stdout",
     "output_type": "stream",
     "text": [
      "cardinalityOf --- SPO3PI9991Population\n",
      "\n"
     ]
    }
   ],
   "source": [
    "for p in item1_properties:\n",
    "    print(f'{p.name} --- {list(item1.__getattr__(str(p.name)))[0].name}\\n')"
   ]
  },
  {
   "cell_type": "markdown",
   "id": "de1a8e02",
   "metadata": {},
   "source": [
    "therefore, need to remove label ppt"
   ]
  },
  {
   "cell_type": "code",
   "execution_count": 29,
   "id": "26345420",
   "metadata": {},
   "outputs": [],
   "source": [
    "item1_properties"
   ]
  },
  {
   "cell_type": "code",
   "execution_count": 47,
   "id": "f5fe0ecd",
   "metadata": {},
   "outputs": [],
   "source": [
    "def remove_annotation_properties(ppts):\n",
    "    res = ppts\n",
    "    for i, p in enumerate(ppts):\n",
    "        if p.name == 'commment':\n",
    "            del res[i]\n",
    "        elif p.name == 'label':\n",
    "            del res[i]\n",
    "    return res\n",
    "\n",
    "item1_properties = remove_annotation_properties(item1_properties)"
   ]
  },
  {
   "cell_type": "code",
   "execution_count": 48,
   "id": "4187564a",
   "metadata": {},
   "outputs": [
    {
     "name": "stdout",
     "output_type": "stream",
     "text": [
      "[webprotege.stanford.edu.cardinalityOf]\n"
     ]
    }
   ],
   "source": [
    "print(item1_properties)"
   ]
  },
  {
   "cell_type": "code",
   "execution_count": 53,
   "id": "b9c6af07",
   "metadata": {},
   "outputs": [
    {
     "name": "stdout",
     "output_type": "stream",
     "text": [
      "Child of \"cardinalityOf\": SPO3PI9991Population\n",
      "SPO3PI9991 --- cardinalityOf --- SPO3PI9991Population\n",
      "\n"
     ]
    }
   ],
   "source": [
    "for p in item1_properties:\n",
    "    # print(f'Number of children: len()')\n",
    "    print(f'Child of \"{p.name}\": {list(item1.__getattr__(str(p.name)))[0].name}')\n",
    "    print(f'{item1.name} --- {p.name} --- {list(item1.__getattr__(str(p.name)))[0].name}\\n')"
   ]
  },
  {
   "cell_type": "code",
   "execution_count": 126,
   "id": "5bfb483d",
   "metadata": {},
   "outputs": [
    {
     "name": "stdout",
     "output_type": "stream",
     "text": [
      "{time.month, rdf-schema.label, time.year}\n",
      "2020\n",
      "<class 'int'>\n"
     ]
    },
    {
     "ename": "AttributeError",
     "evalue": "'int' object has no attribute 'get_properties'",
     "output_type": "error",
     "traceback": [
      "\u001b[0;31m---------------------------------------------------------------------------\u001b[0m",
      "\u001b[0;31mAttributeError\u001b[0m                            Traceback (most recent call last)",
      "Input \u001b[0;32mIn [126]\u001b[0m, in \u001b[0;36m<cell line: 11>\u001b[0;34m()\u001b[0m\n\u001b[1;32m      8\u001b[0m \u001b[39mprint\u001b[39m(year_var)\n\u001b[1;32m      9\u001b[0m \u001b[39mprint\u001b[39m(\u001b[39mtype\u001b[39m(year_var))\n\u001b[0;32m---> 11\u001b[0m year_var\u001b[39m.\u001b[39;49mget_properties()\n",
      "\u001b[0;31mAttributeError\u001b[0m: 'int' object has no attribute 'get_properties'"
     ]
    }
   ],
   "source": [
    "# reporting period\n",
    "SPO3PI9991Population_var = item1.cardinalityOf\n",
    "ReportingPeriod_var = SPO3PI9991Population_var[0].forTimeInterval\n",
    "DTDBeginning_var = ReportingPeriod_var[0].hasBeginning\n",
    "print(DTDBeginning_var.get_properties())\n",
    "month_var = DTDBeginning_var.month\n",
    "year_var = DTDBeginning_var.year\n",
    "print(year_var)\n",
    "print(type(year_var))\n",
    "\n",
    "year_var.get_properties()\n",
    "# print(SPO3PI9991Population_var)\n",
    "# print(ReportingPeriod_var)\n",
    "# print(DTDBeginning_var)\n",
    "\n",
    "# remove_annotation_properties(list(ReportingPeriod_var.get_properties()))\n",
    "# DateTimeIntervalBeginning_var = ReportingPeriod_var[0].DateTimeIntervalBeginning"
   ]
  },
  {
   "cell_type": "code",
   "execution_count": 95,
   "id": "9f698066",
   "metadata": {},
   "outputs": [
    {
     "name": "stdout",
     "output_type": "stream",
     "text": [
      "[webprotege.stanford.edu.SPO3PI9991Population]\n",
      "webprotege.stanford.edu.SPO3SmallholderWhoSold\n",
      "{webprotege.stanford.edu.soldTo, rdf-schema.label}\n"
     ]
    }
   ],
   "source": [
    "# org id \n",
    "SPO3PI9991Population_var = item1.cardinalityOf\n",
    "SmallholderWhoSold_var= SPO3PI9991Population_var[0].definedBy\n",
    "\n",
    "print(SPO3PI9991Population_var)\n",
    "print(SmallholderWhoSold_var)\n",
    "print(SmallholderWhoSold_var.get_properties())\n"
   ]
  },
  {
   "cell_type": "markdown",
   "id": "b9e3a08c",
   "metadata": {},
   "source": [
    "## Constructing the tree"
   ]
  },
  {
   "cell_type": "code",
   "execution_count": null,
   "id": "e49446cd",
   "metadata": {},
   "outputs": [],
   "source": [
    "cl"
   ]
  },
  {
   "cell_type": "code",
   "execution_count": null,
   "id": "7d0976f5",
   "metadata": {},
   "outputs": [],
   "source": []
  },
  {
   "cell_type": "code",
   "execution_count": 117,
   "id": "74a2674f",
   "metadata": {},
   "outputs": [
    {
     "data": {
      "text/plain": [
       "webprotege.stanford.edu.SPO3PI9991"
      ]
     },
     "execution_count": 117,
     "metadata": {},
     "output_type": "execute_result"
    }
   ],
   "source": [
    "x = item1"
   ]
  },
  {
   "cell_type": "code",
   "execution_count": null,
   "id": "74b14a8e",
   "metadata": {},
   "outputs": [],
   "source": []
  },
  {
   "cell_type": "code",
   "execution_count": 1,
   "id": "0b427011",
   "metadata": {},
   "outputs": [
    {
     "ename": "NameError",
     "evalue": "name 'item1' is not defined",
     "output_type": "error",
     "traceback": [
      "\u001b[0;31m---------------------------------------------------------------------------\u001b[0m",
      "\u001b[0;31mNameError\u001b[0m                                 Traceback (most recent call last)",
      "\u001b[1;32m/Users/lynnettetee/Desktop/4thYear/🧡MIE490_capstone/Translation_Comparison/comparison/recursion.ipynb Cell 31'\u001b[0m in \u001b[0;36m<cell line: 58>\u001b[0;34m()\u001b[0m\n\u001b[1;32m     <a href='vscode-notebook-cell:/Users/lynnettetee/Desktop/4thYear/%F0%9F%A7%A1MIE490_capstone/Translation_Comparison/comparison/recursion.ipynb#ch0000030?line=44'>45</a>\u001b[0m             c\u001b[39m.\u001b[39minterval_non_overlap_consistency_check(root1p[root1], root2p[root2])\n\u001b[1;32m     <a href='vscode-notebook-cell:/Users/lynnettetee/Desktop/4thYear/%F0%9F%A7%A1MIE490_capstone/Translation_Comparison/comparison/recursion.ipynb#ch0000030?line=46'>47</a>\u001b[0m \u001b[39m# TODO check if should do individual check or class check\u001b[39;00m\n\u001b[1;32m     <a href='vscode-notebook-cell:/Users/lynnettetee/Desktop/4thYear/%F0%9F%A7%A1MIE490_capstone/Translation_Comparison/comparison/recursion.ipynb#ch0000030?line=47'>48</a>\u001b[0m \n\u001b[1;32m     <a href='vscode-notebook-cell:/Users/lynnettetee/Desktop/4thYear/%F0%9F%A7%A1MIE490_capstone/Translation_Comparison/comparison/recursion.ipynb#ch0000030?line=48'>49</a>\u001b[0m \u001b[39m# if do individual check\u001b[39;00m\n\u001b[0;32m   (...)\u001b[0m\n\u001b[1;32m     <a href='vscode-notebook-cell:/Users/lynnettetee/Desktop/4thYear/%F0%9F%A7%A1MIE490_capstone/Translation_Comparison/comparison/recursion.ipynb#ch0000030?line=54'>55</a>\u001b[0m \u001b[39m# c.interval_equality_consistency_check(item1, item2)\u001b[39;00m\n\u001b[1;32m     <a href='vscode-notebook-cell:/Users/lynnettetee/Desktop/4thYear/%F0%9F%A7%A1MIE490_capstone/Translation_Comparison/comparison/recursion.ipynb#ch0000030?line=55'>56</a>\u001b[0m \u001b[39m# c.interval_non_overlap_consistency_check(item1, item2)\u001b[39;00m\n\u001b[0;32m---> <a href='vscode-notebook-cell:/Users/lynnettetee/Desktop/4thYear/%F0%9F%A7%A1MIE490_capstone/Translation_Comparison/comparison/recursion.ipynb#ch0000030?line=57'>58</a>\u001b[0m individual_check(item1, item2)\n",
      "\u001b[0;31mNameError\u001b[0m: name 'item1' is not defined"
     ]
    }
   ],
   "source": [
    "def individual_check(root1, root2):\n",
    "    # TODO instance_of\n",
    "    # TODO instance_of\n",
    "    root1_properties = remove_annotation_properties(list(root1.get_properties()))\n",
    "    root2_properties = remove_annotation_properties(list(root2.get_properties()))\n",
    "    # TODO check if properties are the same\n",
    "    # TODO sort root1_properties and root2_properties\n",
    "    # TODO none type - potentially inconsistent\n",
    "    # TODO If we have root1: {p1, p2, p3} and root2: {p0, p1, p2} we need to guarantee that p1 and p2 are compared and p0 and p3 are inconsistent\n",
    "    ## Remove p1, p0 -> imm print out inconsistent \n",
    "    ## remove from list -> re-sort \n",
    "    for root1p, root2p in zip(root1_properties, root2_properties):\n",
    "        root1_obj = root1p[root1]\n",
    "        root2_obj = root2p[root2]\n",
    "        \n",
    "        root1_obj_is_individual = not(isinstance(root1p[root1], str)) and not(isinstance(root1p[root1], int)) # TODO any more types?\n",
    "        root2_obj_is_individual = not(isinstance(root2p[root2], str)) and not(isinstance(root2p[root2], int)) # TODO any more types?\n",
    "        \n",
    "        if root1_obj is None and root2_obj is None:\n",
    "            # TODO compare by label (str)\n",
    "            pass\n",
    "\n",
    "        # immediately inconsistent cases\n",
    "        if root1_obj_is_individual and not root2_obj_is_individual or not root1_obj_is_individual and root2_obj_is_individual :\n",
    "            print('Inconsistent')\n",
    "            print(f'root1 object is {root1p[root1]} but root2 object is {root2p[root2]}')\n",
    "            return\n",
    "        \n",
    "        # recursion case \n",
    "        if root1_obj_is_individual and root2_obj_is_individual:\n",
    "            individual_check(root1p[root1], root1p[root1])\n",
    "        \n",
    "        # base case  \n",
    "        if not root1_obj_is_individual and not root2_obj_is_individual:\n",
    "            # if root1_obj == root2_obj: # int/str to int/str # TODO both are None\n",
    "            #     print('***CONSISTENT***')\n",
    "            #     print(f'root1 object is {root1p[root1]} and root2 object is {root2p[root2]}')\n",
    "            #     return\n",
    "            # print('Inconsistent')\n",
    "            # print(f'root1 object is {root1p[root1]} but root2 object is {root2p[root2]}')\n",
    "            # return\n",
    "\n",
    "            place_equality_consistent = c.place_equality_consistency_check(root1p[root1], root2p[root2]) #needed to run c.subplace_consistency_check\n",
    "            c.subplace_consistency_check(place_equality_consistent, root1p[root1], root2p[root2])\n",
    "            c.temporal_granularity_consistency_check(root1p[root1], root2p[root2]) #run this before subinterval since subinterval needs them to be the same temporal unit, but actually, does it matter? No, but it does in the way that I implemented it using the datetime library\n",
    "            c.subinterval_consistency_check(root1p[root1], root2p[root2])\n",
    "            #property_consistency_check(root1p[root1], root2p[root2]) #need to debug\n",
    "            c.interval_equality_consistency_check(root1p[root1], root2p[root2])\n",
    "            c.interval_non_overlap_consistency_check(root1p[root1], root2p[root2])\n",
    "\n",
    "def class_comparison():\n",
    "    pass\n",
    "\n",
    "\n",
    "# TODO check if should do individual check or class check\n",
    "\n",
    "# if do individual check\n",
    "# place_equality_consistent = c.place_equality_consistency_check(item1, item2) #needed to run c.subplace_consistency_check\n",
    "# c.subplace_consistency_check(place_equality_consistent, item1, item2)\n",
    "# c.temporal_granularity_consistency_check(item1, item2) #run this before subinterval since subinterval needs them to be the same temporal unit, but actually, does it matter? No, but it does in the way that I implemented it using the datetime library\n",
    "# c.subinterval_consistency_check(item1, item2)\n",
    "# #property_consistency_check(item1, item2) #need to debug\n",
    "# c.interval_equality_consistency_check(item1, item2)\n",
    "# c.interval_non_overlap_consistency_check(item1, item2)\n",
    "\n",
    "individual_check(item1, item2)\n"
   ]
  },
  {
   "cell_type": "code",
   "execution_count": null,
   "id": "3d63a29d",
   "metadata": {},
   "outputs": [],
   "source": []
  }
 ],
 "metadata": {
  "kernelspec": {
   "display_name": "Python 3 (ipykernel)",
   "language": "python",
   "name": "python3"
  },
  "language_info": {
   "codemirror_mode": {
    "name": "ipython",
    "version": 3
   },
   "file_extension": ".py",
   "mimetype": "text/x-python",
   "name": "python",
   "nbconvert_exporter": "python",
   "pygments_lexer": "ipython3",
   "version": "3.9.7"
  }
 },
 "nbformat": 4,
 "nbformat_minor": 5
}
