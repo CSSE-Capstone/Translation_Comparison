{
 "cells": [
  {
   "cell_type": "code",
   "execution_count": 30,
   "id": "45ff8b69-ca88-46b3-8e9b-2c911f3ecbcd",
   "metadata": {},
   "outputs": [
    {
     "ename": "SyntaxError",
     "evalue": "invalid syntax (main.py, line 359)",
     "output_type": "error",
     "traceback": [
      "Traceback \u001b[0;36m(most recent call last)\u001b[0m:\n",
      "  File \u001b[1;32m~/.pyenv/versions/3.9.7/envs/capstone_GH/lib/python3.9/site-packages/IPython/core/interactiveshell.py:3369\u001b[0m in \u001b[1;35mrun_code\u001b[0m\n    exec(code_obj, self.user_global_ns, self.user_ns)\n",
      "\u001b[0;36m  Input \u001b[0;32mIn [30]\u001b[0;36m in \u001b[0;35m<cell line: 3>\u001b[0;36m\u001b[0m\n\u001b[0;31m    from main import Comparison\u001b[0m\n",
      "\u001b[0;36m  File \u001b[0;32m~/Desktop/4thYear/🧡MIE490_capstone/Translation_Comparison/comparison/main.py:359\u001b[0;36m\u001b[0m\n\u001b[0;31m    else:\u001b[0m\n\u001b[0m    ^\u001b[0m\n\u001b[0;31mSyntaxError\u001b[0m\u001b[0;31m:\u001b[0m invalid syntax\n"
     ]
    }
   ],
   "source": [
    "import owlready2 as owl2\n",
    "import datetime\n",
    "from main import Comparison\n"
   ]
  },
  {
   "cell_type": "code",
   "execution_count": 13,
   "id": "6e80441f-64b5-44a6-be60-175dedaacc6d",
   "metadata": {},
   "outputs": [],
   "source": [
    "file_path = '../files/'\n",
    "\n",
    "world = owl2.World()\n",
    "cids_onto = world.get_ontology(file_path + \"cids.owl\").load() #web protege download\n",
    "time_onto = world.get_ontology(file_path + \"Time.owl\").load() #web protege download\n",
    "activity_onto = world.get_ontology(file_path + \"activity.owl\").load() #web protege download\n",
    "icontact_onto = world.get_ontology(file_path + \"icontact.owl\").load() #web protege download\n",
    "iso21972_onto = world.get_ontology(file_path + \"iso21972.owl\").load() #web protege download\n",
    "organization_onto = world.get_ontology(file_path + \"organization.owl\").load() #web protege download\n",
    "genericProperties_onto = world.get_ontology(file_path + \"GenericProperties.owl\").load() #web protege download"
   ]
  },
  {
   "cell_type": "code",
   "execution_count": 14,
   "id": "2d6c373f-c5db-457f-a3e3-37f71ac56f0f",
   "metadata": {},
   "outputs": [],
   "source": [
    "# get all classes - cids and all other imported ontologies\n",
    "classes = list(cids_onto.classes())\n",
    "classes.extend(list(time_onto.classes()))\n",
    "classes.extend(list(icontact_onto.classes()))\n",
    "classes.extend(list(activity_onto.classes()))\n",
    "classes.extend(list(iso21972_onto.classes()))\n",
    "classes.extend(list(organization_onto.classes()))\n",
    "classes.extend(list(genericProperties_onto.classes()))"
   ]
  },
  {
   "cell_type": "code",
   "execution_count": 15,
   "id": "c60356ec-4e10-4d6f-834f-f1741e7831f5",
   "metadata": {},
   "outputs": [],
   "source": [
    "# get all individuals - cids and all other imported ontologies\n",
    "individuals = list(cids_onto.individuals())\n",
    "individuals.extend(list(time_onto.individuals()))\n",
    "individuals.extend(list(icontact_onto.individuals()))\n",
    "individuals.extend(list(activity_onto.individuals()))\n",
    "individuals.extend(list(iso21972_onto.individuals()))\n",
    "individuals.extend(list(organization_onto.individuals()))\n",
    "individuals.extend(list(genericProperties_onto.individuals()))"
   ]
  },
  {
   "cell_type": "code",
   "execution_count": 16,
   "id": "ff985237-2d33-4aa0-b73c-205323bca986",
   "metadata": {},
   "outputs": [
    {
     "name": "stdin",
     "output_type": "stream",
     "text": [
      "Input the first thing you wish to compare:  SPO1EarningsOfFemaleDistributors\n"
     ]
    }
   ],
   "source": [
    "text = input(\"Input the first thing you wish to compare: \")"
   ]
  },
  {
   "cell_type": "code",
   "execution_count": 19,
   "id": "e1c01e9c-a35d-4e66-98ca-d5c657c45861",
   "metadata": {},
   "outputs": [
    {
     "name": "stdin",
     "output_type": "stream",
     "text": [
      "Input the second thing you wish to compare:  SPO1EarningsOfFemaleDistributors\n"
     ]
    }
   ],
   "source": [
    "text2 = input(\"Input the second thing you wish to compare: \")"
   ]
  },
  {
   "cell_type": "code",
   "execution_count": null,
   "id": "c7040a39-c7ab-484a-8cfb-4bc14ad2dfa5",
   "metadata": {},
   "outputs": [
    {
     "name": "stdout",
     "output_type": "stream",
     "text": [
      "[webprotege.stanford.edu.SPO1EarningsOfFemaleDistributors]\n",
      "[webprotege.stanford.edu.SPO1EarningsOfFemaleDistributors]\n"
     ]
    }
   ],
   "source": [
    "firstinput = cids_onto.search(label = \"*\" + text + \"*\", _use_str_as_loc_str=True, _case_sensitive=False) \n",
    "secondinput = cids_onto.search(label = \"*\" + text + \"*\", _use_str_as_loc_str=True, _case_sensitive=False) \n",
    "# secondinput = cids_onto.search(iri = \"*\" + text2  + \"*\", _use_str_as_loc_str=True, _case_sensitive=False)\n",
    "print(firstinput)\n",
    "print(secondinput)"
   ]
  },
  {
   "cell_type": "code",
   "execution_count": 23,
   "id": "ffe75cb0-42d3-48d4-98ea-f7c8b95a0ef4",
   "metadata": {},
   "outputs": [
    {
     "name": "stdout",
     "output_type": "stream",
     "text": [
      "[webprotege.stanford.edu.SPO1EarningsOfFemaleDistributors]\n",
      "[webprotege.stanford.edu.SPO1EarningsOfFemaleDistributors]\n"
     ]
    }
   ],
   "source": [
    "print(firstinput)\n",
    "print(secondinput)"
   ]
  },
  {
   "cell_type": "code",
   "execution_count": 29,
   "id": "29f3eaf1-5dd3-478b-aab8-63b3acf1d0d4",
   "metadata": {},
   "outputs": [
    {
     "ename": "NameError",
     "evalue": "name 'Comparison' is not defined",
     "output_type": "error",
     "traceback": [
      "\u001b[0;31m---------------------------------------------------------------------------\u001b[0m",
      "\u001b[0;31mNameError\u001b[0m                                 Traceback (most recent call last)",
      "Input \u001b[0;32mIn [29]\u001b[0m, in \u001b[0;36m<cell line: 11>\u001b[0;34m()\u001b[0m\n\u001b[1;32m      7\u001b[0m item2 \u001b[38;5;241m=\u001b[39m secondinput[\u001b[38;5;241m0\u001b[39m]\n\u001b[1;32m     10\u001b[0m \u001b[38;5;66;03m# Initialize Comparison \u001b[39;00m\n\u001b[0;32m---> 11\u001b[0m comparison \u001b[38;5;241m=\u001b[39m \u001b[43mComparison\u001b[49m(item1, item2)\n",
      "\u001b[0;31mNameError\u001b[0m: name 'Comparison' is not defined"
     ]
    }
   ],
   "source": [
    "#FOR TIME -\n",
    "#firstinput = SPO1EarningsOfFemaleDistributors \n",
    "#secondinput = SPO3EarningsOfFemaleDistributors \n",
    "\n",
    "# take the class/individual out of the list\n",
    "item1 = firstinput[0]\n",
    "item2 = secondinput[0]\n",
    "\n",
    "\n",
    "# Initialize Comparison \n",
    "comparison = Comparison(classes, individuals, item1, item2)"
   ]
  },
  {
   "cell_type": "code",
   "execution_count": null,
   "id": "a3b4e69d-2978-4a28-b9f6-cb059044eb57",
   "metadata": {},
   "outputs": [],
   "source": []
  }
 ],
 "metadata": {
  "kernelspec": {
   "display_name": "Python 3 (ipykernel)",
   "language": "python",
   "name": "python3"
  },
  "language_info": {
   "codemirror_mode": {
    "name": "ipython",
    "version": 3
   },
   "file_extension": ".py",
   "mimetype": "text/x-python",
   "name": "python",
   "nbconvert_exporter": "python",
   "pygments_lexer": "ipython3",
   "version": "3.9.7"
  }
 },
 "nbformat": 4,
 "nbformat_minor": 5
}
